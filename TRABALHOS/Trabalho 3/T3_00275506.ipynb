{
 "cells": [
  {
   "cell_type": "markdown",
   "id": "90b39a9b-1e80-4df9-b66f-1f51a8f8f8c8",
   "metadata": {},
   "source": [
    "# UNIVERSIDADE FEDERAL DO RIO GRANDE DO SUL\n",
    "### PROGRAMA DE PÓS GRADUAÇÃO EM ENGENHARIA CIVIL (PPGEC)\n",
    "### PEC00025 - INTRODUÇÃO À TEORIA DE VIBRAÇÕES\n",
    "\n",
    "### GABRIEL ORSO GARCIA - 00275506"
   ]
  },
  {
   "cell_type": "code",
   "execution_count": 3,
   "id": "e36e9e01-1336-4092-b965-9b47c738f8a1",
   "metadata": {},
   "outputs": [],
   "source": [
    "# importação de módulos básicos:\n",
    "from MRPy import MRPy\n",
    "import numpy as np"
   ]
  },
  {
   "cell_type": "markdown",
   "id": "d5133d5d-ed88-428e-91e3-17ce3167fda5",
   "metadata": {},
   "source": [
    "## 1 - Definição da Estrutura:\n",
    "\n",
    "A estrutura a ser analisada no trabalho é uma viga de cobertura. A viga foi projetada para atravessar um vão de aproximadamente 25m, sustentando o telhado de um mercado - sua seção tranversal é retangular, de 30x120cm. A imagem abaixo apresenta as vistas superior e lateral da viga:\n",
    "\n",
    "<img src=\"img/geometria_viga.png\" alt=\"Vista superior e lateral\" width=\"8000px\"/>\n",
    "\n",
    "Os cortes abaixo apresentam de maneira geral a geometria da seção transversal da viga, bem como as armaduras utilizadas:\n",
    "\n",
    "<img src=\"img/cortes_viga.png\" alt=\"Vista superior e lateral\" width=\"1000px\"/>\n",
    "\n",
    "Com o objetivo de aliviar o peso próprio da viga, foi utilizado um preenchimento com EPS em seu interior. Esse preenchimento começa a 1,5 metros de distância das extremidades da viga e tem dimensões de 12x70cm. Estruturalmente, é como se a viga fosse de seção caixão, já que o EPS possui massa e módulo de elasticidade desprezíveis.\n",
    "\n",
    "Por ser uma viga pré-fabricada, o sistema de protensão utilizado é o de pré-tração. Foram adotadas 10 cordoalhas com diâmetro de 15,2mm, com pré-alongamento de 7,76mm/m e força em cada uma delas de 21,74 tonf. A protensão foi escalonada em dois grupos de cordoalhas, o primeiro grupo - as 5 cordoalhas inferiores marcadas como N1 no corte - tem sua aderência nas extremidades da viga. Já o segundo grupo - as outras 5 cordoalhas, marcadas como N2 no corte - foram isoladas no momento da concretagem em seus primeiros 1,9 metros, de forma que sua aderência e atuação na viga só acontecem a partir desse ponto, em ambas as extremidades.\n",
    "\n",
    "## 2 - Modelo Estrutural:\n",
    "\n",
    "O modelo estrutural a ser utilizado será o de barra de viga, dividindo-se a viga em 10 trechos iguais de 2,5 metros cada. Os dados iniciais para caracterização do modelo são:\n",
    "\n",
    "- Módulo de Elasticidade do Material\n",
    "- Rigidez à Flexão da Seção. (Momento de Inércia)\n",
    "\n",
    "Por se tratar de uma seção compósita (aço + concreto) o módulo de elasticidade a ser utilizado será o do concreto, calculado com auxílio da NBR6118:2014. Para o momento de inércia da seção, será utilizada uma rigidez equivalente, a fim de levar em consideração a diferença entre os módulos de elasticidade do Aço e do Concreto, resultando assim em uma rigidez EI mais próxima da realidade."
   ]
  },
  {
   "cell_type": "markdown",
   "id": "93983266-baf1-4e1f-8366-099271f88d42",
   "metadata": {
    "tags": []
   },
   "source": [
    "### 2.1 - Módulo de Elasticidade (E):\n",
    "\n",
    "Segundo a NBR 6118:2014, o módulo de elasticidade tangente inicial do concreto pode ser estimado pela resistência característica do concreto à compressão, pela equação:\n",
    "\n",
    "$$ E_{ci} = \\alpha_e5600*\\sqrt{f_{ck}} $$\n",
    "(equação válida somente para $ f_{ck} <= 50 MPa $)\n",
    "\n",
    "Onde $\\alpha_e$ é um coeficiente que diz respeito ao agregado graúdo utilizado no concreto, sendo adotado como 1,0 neste caso. Como $f_{ck} = 40 MPa$ nesta obra, então:\n",
    "\n",
    "$$ E_{ci} = 5600*\\sqrt{40} = 35417 MPa $$\n",
    "\n",
    "O módulo de deformação secante pode ser estimado pela expressão:\n",
    "\n",
    "$$ E_{cs} = (0.8 + 0.2*(f_{ck}/80))*E_{ci} $$\n",
    "$$ E_{cs} = (0.8 + 0.2*(40/50))*35417 = 31875 MPa $$\n"
   ]
  },
  {
   "cell_type": "markdown",
   "id": "c1003795-6fd7-48b2-9e15-3aea072c23d2",
   "metadata": {},
   "source": [
    "### 2.2 - Inércia Equivalente da Seção:\n",
    "\n",
    "Para se considerar a inércia equivalente da seção, primeiro é necessário calcular a razão entre os módulos de elasticidade do aço e do concreto. Vamos chamar de $\\alpha_p$ a relação para o aço CP-190RB (cordoalhas de protensão e $\\alpha_s$ para o aço CA-50 (armadura passiva)\n",
    "\n",
    "$$\\alpha_p = \\dfrac{205000}{31875} - 1 = 5.43$$\n",
    "\n",
    "\n",
    "$$\\alpha_s = \\dfrac{200000}{31875} - 1 = 5.27$$\n",
    "\n",
    "#### 2.2.1 - Cálculo do Centro de Gravidade da Seção:\n",
    "\n",
    "Primeiramente, precisamos calcular a altura do centróide da seção, considerando a área das barras de aço como $\\alpha_p$ e $\\alpha_s$ maiores que a do concreto.\n",
    "\n",
    " - Seção de concreto armado, descontado do Eps:\n",
    " \n",
    "$$A_c = 30*120 - 12*70 = 2760 cm^2$$\n",
    "\n",
    "$$ y_{A_c} = \\dfrac{120}{2} = 60 $$\n",
    "\n",
    " - Armadura Negativa (4 $\\phi$ 16.0 mm):\n",
    " \n",
    " $$ A_{sn} = 4 * (\\dfrac{\\phi}{2})^2*\\pi*\\alpha_s = 42.38 cm^2$$\n",
    " $$ y_{A_{sn}} = 120 - 5 = 115cm $$\n",
    " \n",
    " - Armadura Positiva (2 $\\phi$ 12.5 mm):\n",
    " \n",
    "  $$ A_{sp} = 2 * (\\dfrac{\\phi}{2})^2*\\pi*\\alpha_s = 12.93 cm^2$$\n",
    "  $$ y_{A_{sp}} = 5 cm $$\n",
    "  \n",
    "  - Armadura de Pele (12 $\\phi$ 10.0 mm):\n",
    "  \n",
    "  $$ A_{pl} = 12 * (\\dfrac{\\phi}{2})^2*\\pi*\\alpha_s = 41.39 cm^2$$\n",
    "  $$ y_{A_{pl}} = 62 cm $$\n",
    "  \n",
    "  - Armadura Ativa:\n",
    "  \n",
    "  $$ A_{p} = 10 * 1.43 *\\alpha_p = 77.65 cm^2$$\n",
    "  $$ y_{A_{p}} = 11.7 cm $$\n",
    "  \n",
    "  - Centro de Gravidade da Seção:\n",
    "  \n",
    "  $$ y_g = \\dfrac{2760*60 + 42.38*115 + 12.93*5 + 41.39*62+77.65*11.7}{2760+42.38+12.93+41.39+77.65} = 59.3 cm$$\n",
    "  \n",
    "#### 2.2.2 - Cálculo da Inércia:\n",
    "\n",
    "A inércia a flexão da seção será calculada em referência ao centroide $y_g$ - através do teorema de steiner, somando-se as contribuições da seção de concreto e diversas armaduras:\n",
    "\n",
    " - Seção de concreto armado, descontado do Eps:\n",
    " \n",
    "$$ I_c = \\dfrac{30*120^3}{12} - \\dfrac{12*70^3}{12} + 2760*(60-59.3)^2 = 3978352.4$$ \n",
    "\n",
    " - Armadura Negativa (4 $\\phi$ 16.0 mm):\n",
    " \n",
    "$$ I_{A_{sn}} = 4* (\\dfrac{\\pi*\\phi^4}{16}) + (42.38)*(115-59.3)^2 = 131488.68 $$\n",
    " \n",
    " - Armadura Positiva (2 $\\phi$ 12.5 mm):\n",
    " \n",
    "$$ I_{A_{sp}} = 2* (\\dfrac{\\pi*\\phi^4}{16}) + (12.93)*(5-59.3)^2 = 38124.93 $$\n",
    "  \n",
    "  - Armadura de Pele (12 $\\phi$ 10.0 mm):\n",
    "  \n",
    "\n",
    "  \n",
    "  - Armadura Ativa:\n",
    "  \n",
    "\n",
    "  \n",
    "  - Centro de Gravidade da Seção:\n",
    "  "
   ]
  }
 ],
 "metadata": {
  "kernelspec": {
   "display_name": "Python 3 (ipykernel)",
   "language": "python",
   "name": "python3"
  },
  "language_info": {
   "codemirror_mode": {
    "name": "ipython",
    "version": 3
   },
   "file_extension": ".py",
   "mimetype": "text/x-python",
   "name": "python",
   "nbconvert_exporter": "python",
   "pygments_lexer": "ipython3",
   "version": "3.9.7"
  }
 },
 "nbformat": 4,
 "nbformat_minor": 5
}

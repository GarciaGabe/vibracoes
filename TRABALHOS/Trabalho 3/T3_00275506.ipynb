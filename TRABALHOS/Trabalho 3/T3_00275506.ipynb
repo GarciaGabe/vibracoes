{
 "cells": [
  {
   "cell_type": "markdown",
   "id": "90b39a9b-1e80-4df9-b66f-1f51a8f8f8c8",
   "metadata": {},
   "source": [
    "# UNIVERSIDADE FEDERAL DO RIO GRANDE DO SUL\n",
    "### PROGRAMA DE PÓS GRADUAÇÃO EM ENGENHARIA CIVIL (PPGEC)\n",
    "### PEC00025 - INTRODUÇÃO À TEORIA DE VIBRAÇÕES\n",
    "\n",
    "### GABRIEL ORSO GARCIA - 00275506"
   ]
  },
  {
   "cell_type": "code",
   "execution_count": 3,
   "id": "e36e9e01-1336-4092-b965-9b47c738f8a1",
   "metadata": {},
   "outputs": [],
   "source": [
    "# importação de módulos básicos:\n",
    "from MRPy import MRPy\n",
    "import numpy as np"
   ]
  },
  {
   "cell_type": "markdown",
   "id": "d5133d5d-ed88-428e-91e3-17ce3167fda5",
   "metadata": {},
   "source": [
    "## 1 - Definição da Estrutura:\n",
    "\n",
    "A estrutura a ser analisada no trabalho é uma viga de cobertura. A viga foi projetada para atravessar um vão de aproximadamente 25m, sustentando o telhado de um mercado - sua seção tranversal é retangular, de 30x120cm. A imagem abaixo apresenta as vistas superior e lateral da viga:\n",
    "\n",
    "<img src=\"img/geometria_viga.png\" alt=\"Vista superior e lateral\" width=\"8000px\"/>\n",
    "\n",
    "Os cortes abaixo apresentam de maneira geral a geometria da seção transversal da viga, bem como as armaduras utilizadas:\n",
    "\n",
    "<img src=\"img/cortes_viga.png\" alt=\"Vista superior e lateral\" width=\"1000px\"/>\n",
    "\n",
    "Com o objetivo de aliviar o peso próprio da viga, foi utilizado um preenchimento com EPS em seu interior. Esse preenchimento começa a 1,5 metros de distância das extremidades da viga e tem dimensões de 12x70cm. Estruturalmente, é como se a viga fosse de seção caixão, já que o EPS possui massa e módulo de elasticidade desprezíveis.\n",
    "\n",
    "Por ser uma viga pré-fabricada, o sistema de protensão utilizado é o de pré-tração. Foram adotadas 10 cordoalhas com diâmetro de 15,2mm, com pré-alongamento de 7,76mm/m e força em cada uma delas de 21,74 tonf. A protensão foi escalonada em dois grupos de cordoalhas, o primeiro grupo - as 5 cordoalhas inferiores marcadas como N1 no corte - tem sua aderência nas extremidades da viga. Já o segundo grupo - as outras 5 cordoalhas, marcadas como N2 no corte - foram isoladas no momento da concretagem em seus primeiros 1,9 metros, de forma que sua aderência e atuação na viga só acontecem a partir desse ponto, em ambas as extremidades.\n",
    "\n",
    "## 2 - Modelo Estrutural:"
   ]
  },
  {
   "cell_type": "code",
   "execution_count": null,
   "id": "527b8672-8dec-4185-94ca-14e93bd7b0d1",
   "metadata": {},
   "outputs": [],
   "source": []
  }
 ],
 "metadata": {
  "kernelspec": {
   "display_name": "Python 3 (ipykernel)",
   "language": "python",
   "name": "python3"
  },
  "language_info": {
   "codemirror_mode": {
    "name": "ipython",
    "version": 3
   },
   "file_extension": ".py",
   "mimetype": "text/x-python",
   "name": "python",
   "nbconvert_exporter": "python",
   "pygments_lexer": "ipython3",
   "version": "3.9.7"
  }
 },
 "nbformat": 4,
 "nbformat_minor": 5
}
